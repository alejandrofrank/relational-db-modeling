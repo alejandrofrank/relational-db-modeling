{
 "cells": [
  {
   "cell_type": "code",
   "execution_count": 17,
   "metadata": {
    "editable": true
   },
   "outputs": [],
   "source": [
    "import os\n",
    "import glob\n",
    "import psycopg2\n",
    "import pandas as pd\n",
    "from sql_queries import *\n",
    "import pandas.io.sql as sqlio\n",
    "\n",
    "from matplotlib import pyplot\n",
    "\n",
    "import warnings\n",
    "warnings.filterwarnings('ignore')"
   ]
  },
  {
   "cell_type": "code",
   "execution_count": 4,
   "metadata": {
    "editable": true
   },
   "outputs": [],
   "source": [
    "conn = psycopg2.connect(\"host=127.0.0.1 dbname=sparkifydb user=student password=student\")\n",
    "cur = conn.cursor()"
   ]
  },
  {
   "cell_type": "code",
   "execution_count": 7,
   "metadata": {
    "editable": true
   },
   "outputs": [],
   "source": [
    "df = sqlio.read_sql_query(\"SELECT * FROM songplays\", conn)"
   ]
  },
  {
   "cell_type": "markdown",
   "metadata": {
    "editable": true
   },
   "source": [
    "## Doing a little exploratody analysis"
   ]
  },
  {
   "cell_type": "code",
   "execution_count": 11,
   "metadata": {
    "editable": true
   },
   "outputs": [
    {
     "name": "stdout",
     "output_type": "stream",
     "text": [
      "The shape of the dataset is: (6820, 9)\n"
     ]
    }
   ],
   "source": [
    "print(f'The shape of the dataset is: {df.shape}')"
   ]
  },
  {
   "cell_type": "code",
   "execution_count": 14,
   "metadata": {
    "editable": true
   },
   "outputs": [
    {
     "name": "stdout",
     "output_type": "stream",
     "text": [
      "The dataset contains this amount of null values per columns: songplay_id       0\n",
      "start_time        0\n",
      "user_id           0\n",
      "level             0\n",
      "song_id        6819\n",
      "artist_id      6819\n",
      "session_id        0\n",
      "location          0\n",
      "user_agent        0\n",
      "dtype: int64\n"
     ]
    }
   ],
   "source": [
    "print(f'The dataset contains this amount of null values per columns: {df.isnull().sum()}')"
   ]
  },
  {
   "cell_type": "markdown",
   "metadata": {
    "editable": true
   },
   "source": [
    "#### Let's check the values of the columns to see if we find out something cool"
   ]
  },
  {
   "cell_type": "code",
   "execution_count": 38,
   "metadata": {
    "editable": true
   },
   "outputs": [
    {
     "data": {
      "text/plain": [
       "5704   1970-01-01 00:25:41.607557796\n",
       "4299   1970-01-01 00:25:42.846220796\n",
       "5880   1970-01-01 00:25:42.373636796\n",
       "1813   1970-01-01 00:25:41.254670796\n",
       "1726   1970-01-01 00:25:42.315784796\n",
       "Name: start_time, dtype: datetime64[ns]"
      ]
     },
     "execution_count": 38,
     "metadata": {},
     "output_type": "execute_result"
    }
   ],
   "source": [
    "df['start_time'].sample(5)"
   ]
  },
  {
   "cell_type": "markdown",
   "metadata": {
    "editable": true
   },
   "source": [
    "We can see the start_time is still in ms time, so let's convert it into a human friendly format like a normal timestamp and sample some values"
   ]
  },
  {
   "cell_type": "code",
   "execution_count": 40,
   "metadata": {
    "editable": true
   },
   "outputs": [
    {
     "data": {
      "text/plain": [
       "616    1970-01-01 00:25:43.003488796\n",
       "132    1970-01-01 00:25:43.574980796\n",
       "4358   1970-01-01 00:25:42.890195796\n",
       "4733   1970-01-01 00:25:41.429782796\n",
       "4900   1970-01-01 00:25:41.461788796\n",
       "Name: start_time, dtype: datetime64[ns]"
      ]
     },
     "execution_count": 40,
     "metadata": {},
     "output_type": "execute_result"
    }
   ],
   "source": [
    "df['start_time'] = pd.to_datetime(df['start_time'])\n",
    "df['start_time'].sample(5)"
   ]
  },
  {
   "cell_type": "code",
   "execution_count": 46,
   "metadata": {
    "editable": true
   },
   "outputs": [
    {
     "name": "stdout",
     "output_type": "stream",
     "text": [
      "The date in which songs were streamed appear to be 1970-01-01    6820\n",
      "Name: start_time, dtype: int64\n"
     ]
    }
   ],
   "source": [
    "print(f\"The date in which songs were streamed appear to be {df['start_time'].dt.date.value_counts()}\")"
   ]
  },
  {
   "cell_type": "markdown",
   "metadata": {
    "editable": true
   },
   "source": [
    "I wanted to make a time series of the songs listened but the only records that appear to be different are the minutes and the seconds, so I'm not going to enjoy taking any insights from it."
   ]
  },
  {
   "cell_type": "code",
   "execution_count": 47,
   "metadata": {
    "editable": true
   },
   "outputs": [
    {
     "data": {
      "text/plain": [
       "paid    5591\n",
       "free    1229\n",
       "Name: level, dtype: int64"
      ]
     },
     "execution_count": 47,
     "metadata": {},
     "output_type": "execute_result"
    }
   ],
   "source": [
    "df['level'].value_counts()"
   ]
  },
  {
   "cell_type": "markdown",
   "metadata": {
    "editable": true
   },
   "source": [
    "This column can be a boolean, I would actually like it more if it were to be a boolean column because I had no idea what that column meant when I started the project. Maybe a is_paid or is_premium or whatever"
   ]
  },
  {
   "cell_type": "markdown",
   "metadata": {
    "editable": true
   },
   "source": [
    "We will not be looking into the IDs columns since we know they contain only unique values and a lot of nulls. "
   ]
  },
  {
   "cell_type": "code",
   "execution_count": 50,
   "metadata": {
    "editable": true
   },
   "outputs": [
    {
     "data": {
      "text/plain": [
       "Portland-South Portland, ME          665\n",
       "London, KY                             5\n",
       "Augusta-Richmond County, GA-SC       140\n",
       "Atlanta-Sandy Springs-Roswell, GA    456\n",
       "Salt Lake City, UT                     4\n",
       "Santa Rosa, CA                        20\n",
       "Name: location, dtype: int64"
      ]
     },
     "execution_count": 50,
     "metadata": {},
     "output_type": "execute_result"
    }
   ],
   "source": [
    "df['location'].value_counts().sample(6)"
   ]
  },
  {
   "cell_type": "code",
   "execution_count": 57,
   "metadata": {
    "editable": true
   },
   "outputs": [],
   "source": [
    "new = df['location'].str.rsplit(',', n = 1, expand = True) \n",
    "\n",
    "df[\"city\"]= new[0]\n",
    "df[\"state_code\"]= new[1]"
   ]
  },
  {
   "cell_type": "code",
   "execution_count": 58,
   "metadata": {
    "editable": true
   },
   "outputs": [
    {
     "data": {
      "text/plain": [
       "Yuba City                        27\n",
       "La Crosse-Onalaska               45\n",
       "New York-Newark-Jersey City     262\n",
       "Richmond                         13\n",
       "Eureka-Arcata-Fortuna            16\n",
       "Klamath Falls                    20\n",
       "Portland-Vancouver-Hillsboro      7\n",
       "Name: city, dtype: int64"
      ]
     },
     "execution_count": 58,
     "metadata": {},
     "output_type": "execute_result"
    }
   ],
   "source": [
    "df[\"city\"].value_counts().sample(7)"
   ]
  },
  {
   "cell_type": "code",
   "execution_count": 60,
   "metadata": {
    "editable": true
   },
   "outputs": [
    {
     "data": {
      "text/plain": [
       " CA          1572\n",
       " ME           665\n",
       " MI           636\n",
       " IL-IN-WI     475\n",
       " GA           456\n",
       " IA           407\n",
       " AZ           348\n",
       "Name: state_code, dtype: int64"
      ]
     },
     "execution_count": 60,
     "metadata": {},
     "output_type": "execute_result"
    }
   ],
   "source": [
    "df['state_code'].value_counts().head(7)"
   ]
  },
  {
   "cell_type": "markdown",
   "metadata": {
    "editable": true
   },
   "source": [
    "Now we know a lot of the locations are streamed from California, this operation was useful to separate the string into two columns for us to have this valuable state code."
   ]
  },
  {
   "cell_type": "code",
   "execution_count": 37,
   "metadata": {
    "editable": true
   },
   "outputs": [
    {
     "data": {
      "text/plain": [
       "(6820,)"
      ]
     },
     "execution_count": 37,
     "metadata": {},
     "output_type": "execute_result"
    }
   ],
   "source": [
    "df[df['user_agent'].str.contains('Mozilla')]['user_agent'].shape"
   ]
  },
  {
   "cell_type": "markdown",
   "metadata": {
    "editable": true
   },
   "source": [
    "Every song was streamed via Mozilla user agent, I really wanted there to be more"
   ]
  },
  {
   "cell_type": "markdown",
   "metadata": {
    "editable": true
   },
   "source": [
    "#### I will eventually come back to this EDA after I look up some online notebooks to see if I can still do something interesting. Overall, very nice project"
   ]
  }
 ],
 "metadata": {
  "kernelspec": {
   "display_name": "Python 3",
   "language": "python",
   "name": "python3"
  },
  "language_info": {
   "codemirror_mode": {
    "name": "ipython",
    "version": 3
   },
   "file_extension": ".py",
   "mimetype": "text/x-python",
   "name": "python",
   "nbconvert_exporter": "python",
   "pygments_lexer": "ipython3",
   "version": "3.6.3"
  }
 },
 "nbformat": 4,
 "nbformat_minor": 4
}
